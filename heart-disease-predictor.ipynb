{
 "cells": [
  {
   "cell_type": "code",
   "execution_count": 1,
   "id": "c6eac750",
   "metadata": {
    "_cell_guid": "b1076dfc-b9ad-4769-8c92-a6c4dae69d19",
    "_uuid": "8f2839f25d086af736a60e9eeb907d3b93b6e0e5",
    "execution": {
     "iopub.execute_input": "2025-06-26T16:10:55.841458Z",
     "iopub.status.busy": "2025-06-26T16:10:55.841147Z",
     "iopub.status.idle": "2025-06-26T16:10:59.527879Z",
     "shell.execute_reply": "2025-06-26T16:10:59.526761Z"
    },
    "papermill": {
     "duration": 3.693984,
     "end_time": "2025-06-26T16:10:59.529851",
     "exception": false,
     "start_time": "2025-06-26T16:10:55.835867",
     "status": "completed"
    },
    "tags": []
   },
   "outputs": [],
   "source": [
    "import numpy as np\n",
    "import pandas as pd\n",
    "import matplotlib.pyplot as plt\n",
    "from sklearn.model_selection import train_test_split\n",
    "from sklearn.preprocessing import StandardScaler\n",
    "from sklearn.linear_model import LogisticRegression\n",
    "from sklearn.metrics import confusion_matrix, recall_score, f1_score"
   ]
  },
  {
   "cell_type": "code",
   "execution_count": 2,
   "id": "65334242",
   "metadata": {
    "execution": {
     "iopub.execute_input": "2025-06-26T16:10:59.538623Z",
     "iopub.status.busy": "2025-06-26T16:10:59.537612Z",
     "iopub.status.idle": "2025-06-26T16:10:59.565406Z",
     "shell.execute_reply": "2025-06-26T16:10:59.564223Z"
    },
    "papermill": {
     "duration": 0.033859,
     "end_time": "2025-06-26T16:10:59.567316",
     "exception": false,
     "start_time": "2025-06-26T16:10:59.533457",
     "status": "completed"
    },
    "tags": []
   },
   "outputs": [],
   "source": [
    "df = pd.read_csv('/kaggle/input/heart-diseaseuci/heart.csv')"
   ]
  },
  {
   "cell_type": "code",
   "execution_count": 3,
   "id": "af549528",
   "metadata": {
    "execution": {
     "iopub.execute_input": "2025-06-26T16:10:59.574691Z",
     "iopub.status.busy": "2025-06-26T16:10:59.574312Z",
     "iopub.status.idle": "2025-06-26T16:10:59.611115Z",
     "shell.execute_reply": "2025-06-26T16:10:59.610069Z"
    },
    "papermill": {
     "duration": 0.042498,
     "end_time": "2025-06-26T16:10:59.612816",
     "exception": false,
     "start_time": "2025-06-26T16:10:59.570318",
     "status": "completed"
    },
    "tags": []
   },
   "outputs": [
    {
     "data": {
      "text/html": [
       "<div>\n",
       "<style scoped>\n",
       "    .dataframe tbody tr th:only-of-type {\n",
       "        vertical-align: middle;\n",
       "    }\n",
       "\n",
       "    .dataframe tbody tr th {\n",
       "        vertical-align: top;\n",
       "    }\n",
       "\n",
       "    .dataframe thead th {\n",
       "        text-align: right;\n",
       "    }\n",
       "</style>\n",
       "<table border=\"1\" class=\"dataframe\">\n",
       "  <thead>\n",
       "    <tr style=\"text-align: right;\">\n",
       "      <th></th>\n",
       "      <th>age</th>\n",
       "      <th>sex</th>\n",
       "      <th>cp</th>\n",
       "      <th>trestbps</th>\n",
       "      <th>chol</th>\n",
       "      <th>fbs</th>\n",
       "      <th>restecg</th>\n",
       "      <th>thalach</th>\n",
       "      <th>exang</th>\n",
       "      <th>oldpeak</th>\n",
       "      <th>slope</th>\n",
       "      <th>ca</th>\n",
       "      <th>thal</th>\n",
       "      <th>target</th>\n",
       "    </tr>\n",
       "  </thead>\n",
       "  <tbody>\n",
       "    <tr>\n",
       "      <th>205</th>\n",
       "      <td>52</td>\n",
       "      <td>1</td>\n",
       "      <td>0</td>\n",
       "      <td>128</td>\n",
       "      <td>255</td>\n",
       "      <td>0</td>\n",
       "      <td>1</td>\n",
       "      <td>161</td>\n",
       "      <td>1</td>\n",
       "      <td>0.0</td>\n",
       "      <td>2</td>\n",
       "      <td>1</td>\n",
       "      <td>3</td>\n",
       "      <td>0</td>\n",
       "    </tr>\n",
       "    <tr>\n",
       "      <th>182</th>\n",
       "      <td>61</td>\n",
       "      <td>0</td>\n",
       "      <td>0</td>\n",
       "      <td>130</td>\n",
       "      <td>330</td>\n",
       "      <td>0</td>\n",
       "      <td>0</td>\n",
       "      <td>169</td>\n",
       "      <td>0</td>\n",
       "      <td>0.0</td>\n",
       "      <td>2</td>\n",
       "      <td>0</td>\n",
       "      <td>2</td>\n",
       "      <td>0</td>\n",
       "    </tr>\n",
       "    <tr>\n",
       "      <th>145</th>\n",
       "      <td>70</td>\n",
       "      <td>1</td>\n",
       "      <td>1</td>\n",
       "      <td>156</td>\n",
       "      <td>245</td>\n",
       "      <td>0</td>\n",
       "      <td>0</td>\n",
       "      <td>143</td>\n",
       "      <td>0</td>\n",
       "      <td>0.0</td>\n",
       "      <td>2</td>\n",
       "      <td>0</td>\n",
       "      <td>2</td>\n",
       "      <td>1</td>\n",
       "    </tr>\n",
       "    <tr>\n",
       "      <th>26</th>\n",
       "      <td>59</td>\n",
       "      <td>1</td>\n",
       "      <td>2</td>\n",
       "      <td>150</td>\n",
       "      <td>212</td>\n",
       "      <td>1</td>\n",
       "      <td>1</td>\n",
       "      <td>157</td>\n",
       "      <td>0</td>\n",
       "      <td>1.6</td>\n",
       "      <td>2</td>\n",
       "      <td>0</td>\n",
       "      <td>2</td>\n",
       "      <td>1</td>\n",
       "    </tr>\n",
       "    <tr>\n",
       "      <th>20</th>\n",
       "      <td>59</td>\n",
       "      <td>1</td>\n",
       "      <td>0</td>\n",
       "      <td>135</td>\n",
       "      <td>234</td>\n",
       "      <td>0</td>\n",
       "      <td>1</td>\n",
       "      <td>161</td>\n",
       "      <td>0</td>\n",
       "      <td>0.5</td>\n",
       "      <td>1</td>\n",
       "      <td>0</td>\n",
       "      <td>3</td>\n",
       "      <td>1</td>\n",
       "    </tr>\n",
       "  </tbody>\n",
       "</table>\n",
       "</div>"
      ],
      "text/plain": [
       "     age  sex  cp  trestbps  chol  fbs  restecg  thalach  exang  oldpeak  \\\n",
       "205   52    1   0       128   255    0        1      161      1      0.0   \n",
       "182   61    0   0       130   330    0        0      169      0      0.0   \n",
       "145   70    1   1       156   245    0        0      143      0      0.0   \n",
       "26    59    1   2       150   212    1        1      157      0      1.6   \n",
       "20    59    1   0       135   234    0        1      161      0      0.5   \n",
       "\n",
       "     slope  ca  thal  target  \n",
       "205      2   1     3       0  \n",
       "182      2   0     2       0  \n",
       "145      2   0     2       1  \n",
       "26       2   0     2       1  \n",
       "20       1   0     3       1  "
      ]
     },
     "execution_count": 3,
     "metadata": {},
     "output_type": "execute_result"
    }
   ],
   "source": [
    "df.sample(5)"
   ]
  },
  {
   "cell_type": "code",
   "execution_count": 4,
   "id": "ed3054d8",
   "metadata": {
    "execution": {
     "iopub.execute_input": "2025-06-26T16:10:59.620618Z",
     "iopub.status.busy": "2025-06-26T16:10:59.620303Z",
     "iopub.status.idle": "2025-06-26T16:10:59.627958Z",
     "shell.execute_reply": "2025-06-26T16:10:59.627023Z"
    },
    "papermill": {
     "duration": 0.013564,
     "end_time": "2025-06-26T16:10:59.629832",
     "exception": false,
     "start_time": "2025-06-26T16:10:59.616268",
     "status": "completed"
    },
    "tags": []
   },
   "outputs": [
    {
     "data": {
      "text/plain": [
       "0.0"
      ]
     },
     "execution_count": 4,
     "metadata": {},
     "output_type": "execute_result"
    }
   ],
   "source": [
    "df.isnull().sum().mean()"
   ]
  },
  {
   "cell_type": "code",
   "execution_count": 5,
   "id": "6470a8a2",
   "metadata": {
    "execution": {
     "iopub.execute_input": "2025-06-26T16:10:59.638247Z",
     "iopub.status.busy": "2025-06-26T16:10:59.637863Z",
     "iopub.status.idle": "2025-06-26T16:10:59.650120Z",
     "shell.execute_reply": "2025-06-26T16:10:59.649245Z"
    },
    "papermill": {
     "duration": 0.018139,
     "end_time": "2025-06-26T16:10:59.651670",
     "exception": false,
     "start_time": "2025-06-26T16:10:59.633531",
     "status": "completed"
    },
    "tags": []
   },
   "outputs": [],
   "source": [
    "X_train, X_test, y_train, y_test = train_test_split(df.drop(['target'],axis=1),\n",
    "                                                   df['target'],test_size=0.2,random_state=2)"
   ]
  },
  {
   "cell_type": "code",
   "execution_count": 6,
   "id": "c288de80",
   "metadata": {
    "execution": {
     "iopub.execute_input": "2025-06-26T16:10:59.659639Z",
     "iopub.status.busy": "2025-06-26T16:10:59.659336Z",
     "iopub.status.idle": "2025-06-26T16:10:59.663717Z",
     "shell.execute_reply": "2025-06-26T16:10:59.662848Z"
    },
    "papermill": {
     "duration": 0.010316,
     "end_time": "2025-06-26T16:10:59.665402",
     "exception": false,
     "start_time": "2025-06-26T16:10:59.655086",
     "status": "completed"
    },
    "tags": []
   },
   "outputs": [],
   "source": [
    "scaler = StandardScaler()"
   ]
  },
  {
   "cell_type": "code",
   "execution_count": 7,
   "id": "8406ed21",
   "metadata": {
    "execution": {
     "iopub.execute_input": "2025-06-26T16:10:59.673862Z",
     "iopub.status.busy": "2025-06-26T16:10:59.673496Z",
     "iopub.status.idle": "2025-06-26T16:10:59.684091Z",
     "shell.execute_reply": "2025-06-26T16:10:59.683038Z"
    },
    "papermill": {
     "duration": 0.017005,
     "end_time": "2025-06-26T16:10:59.685839",
     "exception": false,
     "start_time": "2025-06-26T16:10:59.668834",
     "status": "completed"
    },
    "tags": []
   },
   "outputs": [],
   "source": [
    "X_train_scaled = scaler.fit_transform(X_train)\n",
    "X_test_scaled = scaler.transform(X_test)"
   ]
  },
  {
   "cell_type": "code",
   "execution_count": 8,
   "id": "bfb4531d",
   "metadata": {
    "execution": {
     "iopub.execute_input": "2025-06-26T16:10:59.694347Z",
     "iopub.status.busy": "2025-06-26T16:10:59.693516Z",
     "iopub.status.idle": "2025-06-26T16:10:59.698459Z",
     "shell.execute_reply": "2025-06-26T16:10:59.697591Z"
    },
    "papermill": {
     "duration": 0.010498,
     "end_time": "2025-06-26T16:10:59.699810",
     "exception": false,
     "start_time": "2025-06-26T16:10:59.689312",
     "status": "completed"
    },
    "tags": []
   },
   "outputs": [],
   "source": [
    "lor = LogisticRegression(max_iter=1000, class_weight='balanced')"
   ]
  },
  {
   "cell_type": "code",
   "execution_count": 9,
   "id": "70b7b953",
   "metadata": {
    "execution": {
     "iopub.execute_input": "2025-06-26T16:10:59.708004Z",
     "iopub.status.busy": "2025-06-26T16:10:59.707618Z",
     "iopub.status.idle": "2025-06-26T16:11:03.006341Z",
     "shell.execute_reply": "2025-06-26T16:11:03.005555Z"
    },
    "papermill": {
     "duration": 3.304859,
     "end_time": "2025-06-26T16:11:03.007958",
     "exception": false,
     "start_time": "2025-06-26T16:10:59.703099",
     "status": "completed"
    },
    "tags": []
   },
   "outputs": [
    {
     "data": {
      "text/html": [
       "<style>#sk-container-id-1 {color: black;background-color: white;}#sk-container-id-1 pre{padding: 0;}#sk-container-id-1 div.sk-toggleable {background-color: white;}#sk-container-id-1 label.sk-toggleable__label {cursor: pointer;display: block;width: 100%;margin-bottom: 0;padding: 0.3em;box-sizing: border-box;text-align: center;}#sk-container-id-1 label.sk-toggleable__label-arrow:before {content: \"▸\";float: left;margin-right: 0.25em;color: #696969;}#sk-container-id-1 label.sk-toggleable__label-arrow:hover:before {color: black;}#sk-container-id-1 div.sk-estimator:hover label.sk-toggleable__label-arrow:before {color: black;}#sk-container-id-1 div.sk-toggleable__content {max-height: 0;max-width: 0;overflow: hidden;text-align: left;background-color: #f0f8ff;}#sk-container-id-1 div.sk-toggleable__content pre {margin: 0.2em;color: black;border-radius: 0.25em;background-color: #f0f8ff;}#sk-container-id-1 input.sk-toggleable__control:checked~div.sk-toggleable__content {max-height: 200px;max-width: 100%;overflow: auto;}#sk-container-id-1 input.sk-toggleable__control:checked~label.sk-toggleable__label-arrow:before {content: \"▾\";}#sk-container-id-1 div.sk-estimator input.sk-toggleable__control:checked~label.sk-toggleable__label {background-color: #d4ebff;}#sk-container-id-1 div.sk-label input.sk-toggleable__control:checked~label.sk-toggleable__label {background-color: #d4ebff;}#sk-container-id-1 input.sk-hidden--visually {border: 0;clip: rect(1px 1px 1px 1px);clip: rect(1px, 1px, 1px, 1px);height: 1px;margin: -1px;overflow: hidden;padding: 0;position: absolute;width: 1px;}#sk-container-id-1 div.sk-estimator {font-family: monospace;background-color: #f0f8ff;border: 1px dotted black;border-radius: 0.25em;box-sizing: border-box;margin-bottom: 0.5em;}#sk-container-id-1 div.sk-estimator:hover {background-color: #d4ebff;}#sk-container-id-1 div.sk-parallel-item::after {content: \"\";width: 100%;border-bottom: 1px solid gray;flex-grow: 1;}#sk-container-id-1 div.sk-label:hover label.sk-toggleable__label {background-color: #d4ebff;}#sk-container-id-1 div.sk-serial::before {content: \"\";position: absolute;border-left: 1px solid gray;box-sizing: border-box;top: 0;bottom: 0;left: 50%;z-index: 0;}#sk-container-id-1 div.sk-serial {display: flex;flex-direction: column;align-items: center;background-color: white;padding-right: 0.2em;padding-left: 0.2em;position: relative;}#sk-container-id-1 div.sk-item {position: relative;z-index: 1;}#sk-container-id-1 div.sk-parallel {display: flex;align-items: stretch;justify-content: center;background-color: white;position: relative;}#sk-container-id-1 div.sk-item::before, #sk-container-id-1 div.sk-parallel-item::before {content: \"\";position: absolute;border-left: 1px solid gray;box-sizing: border-box;top: 0;bottom: 0;left: 50%;z-index: -1;}#sk-container-id-1 div.sk-parallel-item {display: flex;flex-direction: column;z-index: 1;position: relative;background-color: white;}#sk-container-id-1 div.sk-parallel-item:first-child::after {align-self: flex-end;width: 50%;}#sk-container-id-1 div.sk-parallel-item:last-child::after {align-self: flex-start;width: 50%;}#sk-container-id-1 div.sk-parallel-item:only-child::after {width: 0;}#sk-container-id-1 div.sk-dashed-wrapped {border: 1px dashed gray;margin: 0 0.4em 0.5em 0.4em;box-sizing: border-box;padding-bottom: 0.4em;background-color: white;}#sk-container-id-1 div.sk-label label {font-family: monospace;font-weight: bold;display: inline-block;line-height: 1.2em;}#sk-container-id-1 div.sk-label-container {text-align: center;}#sk-container-id-1 div.sk-container {/* jupyter's `normalize.less` sets `[hidden] { display: none; }` but bootstrap.min.css set `[hidden] { display: none !important; }` so we also need the `!important` here to be able to override the default hidden behavior on the sphinx rendered scikit-learn.org. See: https://github.com/scikit-learn/scikit-learn/issues/21755 */display: inline-block !important;position: relative;}#sk-container-id-1 div.sk-text-repr-fallback {display: none;}</style><div id=\"sk-container-id-1\" class=\"sk-top-container\"><div class=\"sk-text-repr-fallback\"><pre>LogisticRegression(class_weight=&#x27;balanced&#x27;, max_iter=1000)</pre><b>In a Jupyter environment, please rerun this cell to show the HTML representation or trust the notebook. <br />On GitHub, the HTML representation is unable to render, please try loading this page with nbviewer.org.</b></div><div class=\"sk-container\" hidden><div class=\"sk-item\"><div class=\"sk-estimator sk-toggleable\"><input class=\"sk-toggleable__control sk-hidden--visually\" id=\"sk-estimator-id-1\" type=\"checkbox\" checked><label for=\"sk-estimator-id-1\" class=\"sk-toggleable__label sk-toggleable__label-arrow\">LogisticRegression</label><div class=\"sk-toggleable__content\"><pre>LogisticRegression(class_weight=&#x27;balanced&#x27;, max_iter=1000)</pre></div></div></div></div></div>"
      ],
      "text/plain": [
       "LogisticRegression(class_weight='balanced', max_iter=1000)"
      ]
     },
     "execution_count": 9,
     "metadata": {},
     "output_type": "execute_result"
    }
   ],
   "source": [
    "lor.fit(X_train, y_train)"
   ]
  },
  {
   "cell_type": "code",
   "execution_count": 10,
   "id": "42abe4aa",
   "metadata": {
    "execution": {
     "iopub.execute_input": "2025-06-26T16:11:03.019815Z",
     "iopub.status.busy": "2025-06-26T16:11:03.019489Z",
     "iopub.status.idle": "2025-06-26T16:11:03.027022Z",
     "shell.execute_reply": "2025-06-26T16:11:03.026285Z"
    },
    "papermill": {
     "duration": 0.015474,
     "end_time": "2025-06-26T16:11:03.028705",
     "exception": false,
     "start_time": "2025-06-26T16:11:03.013231",
     "status": "completed"
    },
    "tags": []
   },
   "outputs": [],
   "source": [
    "y_pred = lor.predict(X_test)"
   ]
  },
  {
   "cell_type": "code",
   "execution_count": 11,
   "id": "eaf85090",
   "metadata": {
    "execution": {
     "iopub.execute_input": "2025-06-26T16:11:03.040282Z",
     "iopub.status.busy": "2025-06-26T16:11:03.039945Z",
     "iopub.status.idle": "2025-06-26T16:11:03.056705Z",
     "shell.execute_reply": "2025-06-26T16:11:03.055998Z"
    },
    "papermill": {
     "duration": 0.024276,
     "end_time": "2025-06-26T16:11:03.058449",
     "exception": false,
     "start_time": "2025-06-26T16:11:03.034173",
     "status": "completed"
    },
    "tags": []
   },
   "outputs": [
    {
     "name": "stdout",
     "output_type": "stream",
     "text": [
      "Recall:  0.9655172413793104\n",
      "f1 score:  0.888888888888889\n",
      "Confusion Matrix:  [[26  6]\n",
      " [ 1 28]]\n"
     ]
    }
   ],
   "source": [
    "print('Recall: ', recall_score(y_test, y_pred))\n",
    "print('f1 score: ', f1_score(y_test, y_pred))\n",
    "print('Confusion Matrix: ', confusion_matrix(y_test, y_pred))"
   ]
  },
  {
   "cell_type": "code",
   "execution_count": 12,
   "id": "a5d2b72c",
   "metadata": {
    "execution": {
     "iopub.execute_input": "2025-06-26T16:11:03.070418Z",
     "iopub.status.busy": "2025-06-26T16:11:03.070104Z",
     "iopub.status.idle": "2025-06-26T16:11:03.317793Z",
     "shell.execute_reply": "2025-06-26T16:11:03.316878Z"
    },
    "papermill": {
     "duration": 0.254888,
     "end_time": "2025-06-26T16:11:03.319161",
     "exception": false,
     "start_time": "2025-06-26T16:11:03.064273",
     "status": "completed"
    },
    "tags": []
   },
   "outputs": [
    {
     "data": {
      "text/plain": [
       "([<matplotlib.axis.YTick at 0x78056fe06c90>,\n",
       "  <matplotlib.axis.YTick at 0x78056fe49590>],\n",
       " [Text(0, 0, 'No Disease'), Text(0, 1, 'Disease')])"
      ]
     },
     "execution_count": 12,
     "metadata": {},
     "output_type": "execute_result"
    },
    {
     "data": {
      "image/png": "[encoded data removed]",
      "text/plain": [
       "<Figure size 600x400 with 1 Axes>"
      ]
     },
     "metadata": {},
     "output_type": "display_data"
    }
   ],
   "source": [
    "cm = confusion_matrix(y_test, y_pred)\n",
    "\n",
    "plt.figure(figsize=(6,4))\n",
    "plt.imshow(cm, cmap='Purples')\n",
    "plt.title('Confusion Matrix')\n",
    "plt.xlabel('Predicted')\n",
    "plt.ylabel('Actual')\n",
    "plt.xticks([0, 1], ['No Disease', 'Disease'])\n",
    "plt.yticks([0, 1], ['No Disease', 'Disease'])"
   ]
  },
  {
   "cell_type": "code",
   "execution_count": null,
   "id": "d225bb42",
   "metadata": {
    "papermill": {
     "duration": 0.003345,
     "end_time": "2025-06-26T16:11:03.326219",
     "exception": false,
     "start_time": "2025-06-26T16:11:03.322874",
     "status": "completed"
    },
    "tags": []
   },
   "outputs": [],
   "source": []
  }
 ],
 "metadata": {
  "kaggle": {
   "accelerator": "none",
   "dataSources": [
    {
     "datasetId": 1153794,
     "sourceId": 1934358,
     "sourceType": "datasetVersion"
    }
   ],
   "dockerImageVersionId": 31040,
   "isGpuEnabled": false,
   "isInternetEnabled": true,
   "language": "python",
   "sourceType": "notebook"
  },
  "kernelspec": {
   "display_name": "Python 3",
   "language": "python",
   "name": "python3"
  },
  "language_info": {
   "codemirror_mode": {
    "name": "ipython",
    "version": 3
   },
   "file_extension": ".py",
   "mimetype": "text/x-python",
   "name": "python",
   "nbconvert_exporter": "python",
   "pygments_lexer": "ipython3",
   "version": "3.11.11"
  },
  "papermill": {
   "default_parameters": {},
   "duration": 13.009729,
   "end_time": "2025-06-26T16:11:03.949169",
   "environment_variables": {},
   "exception": null,
   "input_path": "__notebook__.ipynb",
   "output_path": "__notebook__.ipynb",
   "parameters": {},
   "start_time": "2025-06-26T16:10:50.939440",
   "version": "2.6.0"
  }
 },
 "nbformat": 4,
 "nbformat_minor": 5
}
